{
 "cells": [
  {
   "cell_type": "markdown",
   "metadata": {},
   "source": []
  },
  {
   "cell_type": "code",
   "execution_count": 16,
   "metadata": {},
   "outputs": [
    {
     "name": "stdout",
     "output_type": "stream",
     "text": [
      "Start typing. Press 'Space' to transform each word. Type 'exit' to stop.\n",
      "Transformed Sentence: আমার শুনুন\n"
     ]
    }
   ],
   "source": [
    "def phonetic_transform_word(word, mapping, diacritics_mapping):\n",
    "    result = \"\"\n",
    "    buffer = \"\"\n",
    "    i = 0\n",
    "\n",
    "    while i < len(word):\n",
    "        char = word[i]\n",
    "\n",
    "        buffer += char  # Add character to buffer\n",
    "\n",
    "        # Check for three-letter diacritic combinations first (e.g., \"khi\")\n",
    "        if i + 2 < len(word) and (buffer + word[i + 1] + word[i + 2]) in diacritics_mapping:\n",
    "            buffer += word[i + 1] + word[i + 2]  # Add the next two characters to buffer\n",
    "            result += diacritics_mapping[buffer]  # Add the diacritic form for \"khi\"\n",
    "            buffer = \"\"  # Clear buffer after successful match\n",
    "            i += 2  # Skip the next two characters since they are already processed\n",
    "        # If not found, check for two-letter diacritic combinations (e.g., \"ka\")\n",
    "        elif i + 1 < len(word) and (buffer + word[i + 1]) in diacritics_mapping:\n",
    "            buffer += word[i + 1]  # Add the next vowel character to buffer\n",
    "            result += diacritics_mapping[buffer]  # Add the diacritic form for \"ka\"\n",
    "            buffer = \"\"  # Clear buffer after successful match\n",
    "            i += 1  # Skip the next character since it's already processed\n",
    "        else:\n",
    "            # Check if buffer matches a single consonant or vowel\n",
    "            if buffer in mapping:\n",
    "                result += mapping[buffer]\n",
    "                buffer = \"\"  # Clear buffer after match\n",
    "            else:\n",
    "                # Handle multi-character combinations (like 'kh', 'aa', etc.)\n",
    "                if i + 1 < len(word) and (buffer + word[i + 1]) in mapping:\n",
    "                    buffer += word[i + 1]\n",
    "                    result += mapping[buffer]  # Add the mapped value\n",
    "                    buffer = \"\"  # Clear the buffer\n",
    "                    i += 1  # Skip the next character\n",
    "                elif buffer[:-1] in mapping:\n",
    "                    result += mapping[buffer[:-1]]\n",
    "                    buffer = buffer[-1]  # Keep the last character in buffer\n",
    "\n",
    "        i += 1\n",
    "\n",
    "    # Add any remaining buffer (if any)\n",
    "    if buffer in mapping:\n",
    "        result += mapping[buffer]\n",
    "\n",
    "    return result\n",
    "\n",
    "# Phonetic mapping dictionary (for demonstration)\n",
    "phonetic_mapping = {\n",
    "    \"a\": \"অ\", \"i\": \"ই\", \"ii\": \"ঈ\", \"u\": \"উ\", \"uu\": \"ঊ\",\n",
    "    \"e\": \"এ\", \"oi\": \"ঐ\", \"o\": \"ও\", \"ou\": \"ঔ\",\n",
    "    \"k\": \"ক\", \"kh\": \"খ\", \"g\": \"গ\", \"gh\": \"ঘ\", \"ng\": \"ঙ\",\n",
    "    \"c\": \"চ\", \"ch\": \"ছ\", \"j\": \"জ\", \"jh\": \"ঝ\", \"ny\": \"ঞ\",\n",
    "    \"t\": \"ট\", \"th\": \"ঠ\", \"d\": \"ড\", \"dh\": \"ঢ\", \"n\": \"ন\",\n",
    "    \"p\": \"প\", \"ph\": \"ফ\", \"b\": \"ব\", \"bh\": \"ভ\", \"m\": \"ম\",\n",
    "    \"r\": \"র\", \"l\": \"ল\", \"sh\": \"শ\", \"ss\": \"ষ\", \"s\": \"স\", \"h\": \"হ\",\n",
    "    # More consonants and mappings can be added here...\n",
    "}\n",
    "\n",
    "# Diacritics mapping for consonants followed by vowels (including three-letter cases)\n",
    "diacritics_mapping = {\n",
    "    \"ma\": \"মা\", \"ki\": \"কি\", \"kii\": \"কী\", \"ku\": \"কু\", \"kuu\": \"কূ\",\"aa\": \"আ\",\n",
    "    \"ke\": \"কে\", \"kai\": \"কৈ\", \"ko\": \"কো\", \"kou\": \"কৌ\",\n",
    "    \"kha\": \"খা\", \"khi\": \"খি\", \"khii\": \"খী\", \"khu\": \"খু\", \"khuu\": \"খূ\",\"tha\":\"থা\",\"shu\": \"শু\",\"nu\": \"নু\"\n",
    "    # Add diacritic mappings for other consonants...\n",
    "}\n",
    "\n",
    "# Real-time word input detection\n",
    "print(\"Start typing. Press 'Space' to transform each word. Type 'exit' to stop.\")\n",
    "\n",
    "current_word = \"\"  # To store the current word\n",
    "transformed_sentence = []\n",
    "\n",
    "def process_space():\n",
    "    global current_word\n",
    "    if current_word:\n",
    "        # Transform the word and print the result\n",
    "        transformed_word = phonetic_transform_word(current_word, phonetic_mapping, diacritics_mapping)\n",
    "        transformed_sentence.append(transformed_word)\n",
    "        current_word = \"\"  # Clear word after transforming\n",
    "\n",
    "string = \"aamar shunun \"\n",
    "for i in string:\n",
    "    if i == \" \":\n",
    "        process_space()\n",
    "    else:\n",
    "        current_word += i  # Append new character to the current word\n",
    "\n",
    "# Join the transformed words into a sentence and print it\n",
    "final_sentence = ' '.join(transformed_sentence)\n",
    "print(f\"Transformed Sentence: {final_sentence}\")        "
   ]
  },
  {
   "cell_type": "markdown",
   "metadata": {},
   "source": []
  }
 ],
 "metadata": {
  "kernelspec": {
   "display_name": "Python 3",
   "language": "python",
   "name": "python3"
  },
  "language_info": {
   "codemirror_mode": {
    "name": "ipython",
    "version": 3
   },
   "file_extension": ".py",
   "mimetype": "text/x-python",
   "name": "python",
   "nbconvert_exporter": "python",
   "pygments_lexer": "ipython3",
   "version": "3.10.4"
  },
  "orig_nbformat": 4,
  "vscode": {
   "interpreter": {
    "hash": "df95319d8ce4e1d89f5365ae10992bc1f65da593082b1d264e8f529830ec2f02"
   }
  }
 },
 "nbformat": 4,
 "nbformat_minor": 2
}
